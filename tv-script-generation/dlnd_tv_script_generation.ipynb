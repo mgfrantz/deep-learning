{
 "cells": [
  {
   "cell_type": "markdown",
   "metadata": {},
   "source": [
    "# TV Script Generation\n",
    "In this project, you'll generate your own [Simpsons](https://en.wikipedia.org/wiki/The_Simpsons) TV scripts using RNNs.  You'll be using part of the [Simpsons dataset](https://www.kaggle.com/wcukierski/the-simpsons-by-the-data) of scripts from 27 seasons.  The Neural Network you'll build will generate a new TV script for a scene at [Moe's Tavern](https://simpsonswiki.com/wiki/Moe's_Tavern).\n",
    "## Get the Data\n",
    "The data is already provided for you.  You'll be using a subset of the original dataset.  It consists of only the scenes in Moe's Tavern.  This doesn't include other versions of the tavern, like \"Moe's Cavern\", \"Flaming Moe's\", \"Uncle Moe's Family Feed-Bag\", etc.."
   ]
  },
  {
   "cell_type": "code",
   "execution_count": 1,
   "metadata": {},
   "outputs": [],
   "source": [
    "\"\"\"\n",
    "DON'T MODIFY ANYTHING IN THIS CELL\n",
    "\"\"\"\n",
    "import helper\n",
    "\n",
    "data_dir = './data/simpsons/moes_tavern_lines.txt'\n",
    "text = helper.load_data(data_dir)\n",
    "# Ignore notice, since we don't use it for analysing the data\n",
    "text = text[81:]"
   ]
  },
  {
   "cell_type": "markdown",
   "metadata": {},
   "source": [
    "## Explore the Data\n",
    "Play around with `view_sentence_range` to view different parts of the data."
   ]
  },
  {
   "cell_type": "code",
   "execution_count": 5,
   "metadata": {},
   "outputs": [
    {
     "name": "stdout",
     "output_type": "stream",
     "text": [
      "Dataset Stats\n",
      "Roughly the number of unique words: 11492\n",
      "Number of scenes: 262\n",
      "Average number of sentences in each scene: 15.248091603053435\n",
      "Number of lines: 4257\n",
      "Average number of words in each line: 11.50434578341555\n",
      "\n",
      "The sentences 20 to 30:\n",
      "\n",
      "Moe_Szyslak: Looks like this is the end.\n",
      "Barney_Gumble: That's all right. I couldn't have led a richer life.\n",
      "Barney_Gumble: So the next time somebody tells you county folk are good, honest people, you can spit in their faces for me!\n",
      "Lisa_Simpson: I will, Mr. Gumbel. But if you'll excuse me, I'm profiling my dad for the school paper. I thought it would be neat to follow him around for a day to see what makes him tick.\n",
      "Barney_Gumble: Oh, that's sweet. I used to follow my dad to a lot of bars too. (BELCH)\n",
      "Moe_Szyslak: Here you go. One beer, one chocolate milk.\n",
      "Lisa_Simpson: Uh, excuse me, I have the chocolate milk.\n",
      "Moe_Szyslak: Oh.\n",
      "Moe_Szyslak: What's the matter, Homer? The depressin' effects of alcohol usually don't kick in 'til closing time.\n"
     ]
    }
   ],
   "source": [
    "view_sentence_range = (20, 30)\n",
    "\n",
    "\"\"\"\n",
    "DON'T MODIFY ANYTHING IN THIS CELL\n",
    "\"\"\"\n",
    "import numpy as np\n",
    "\n",
    "print('Dataset Stats')\n",
    "print('Roughly the number of unique words: {}'.format(len({word: None for word in text.split()})))\n",
    "scenes = text.split('\\n\\n')\n",
    "print('Number of scenes: {}'.format(len(scenes)))\n",
    "sentence_count_scene = [scene.count('\\n') for scene in scenes]\n",
    "print('Average number of sentences in each scene: {}'.format(np.average(sentence_count_scene)))\n",
    "\n",
    "sentences = [sentence for scene in scenes for sentence in scene.split('\\n')]\n",
    "print('Number of lines: {}'.format(len(sentences)))\n",
    "word_count_sentence = [len(sentence.split()) for sentence in sentences]\n",
    "print('Average number of words in each line: {}'.format(np.average(word_count_sentence)))\n",
    "\n",
    "print()\n",
    "print('The sentences {} to {}:'.format(*view_sentence_range))\n",
    "print('\\n'.join(text.split('\\n')[view_sentence_range[0]:view_sentence_range[1]]))"
   ]
  },
  {
   "cell_type": "markdown",
   "metadata": {},
   "source": [
    "## Implement Preprocessing Functions\n",
    "The first thing to do to any dataset is preprocessing.  Implement the following preprocessing functions below:\n",
    "- Lookup Table\n",
    "- Tokenize Punctuation\n",
    "\n",
    "### Lookup Table\n",
    "To create a word embedding, you first need to transform the words to ids.  In this function, create two dictionaries:\n",
    "- Dictionary to go from the words to an id, we'll call `vocab_to_int`\n",
    "- Dictionary to go from the id to word, we'll call `int_to_vocab`\n",
    "\n",
    "Return these dictionaries in the following tuple `(vocab_to_int, int_to_vocab)`"
   ]
  },
  {
   "cell_type": "code",
   "execution_count": 8,
   "metadata": {},
   "outputs": [
    {
     "name": "stdout",
     "output_type": "stream",
     "text": [
      "Tests Passed\n"
     ]
    }
   ],
   "source": [
    "import numpy as np\n",
    "import problem_unittests as tests\n",
    "\n",
    "def create_lookup_tables(text):\n",
    "    \"\"\"\n",
    "    Create lookup tables for vocabulary\n",
    "    :param text: The text of tv scripts split into words\n",
    "    :return: A tuple of dicts (vocab_to_int, int_to_vocab)\n",
    "    \"\"\"\n",
    "    # TODO: Implement Function\n",
    "    unique_words = set(text)\n",
    "    idx2word = {idx: word for idx, word in enumerate(unique_words)}\n",
    "    word2idx = {word:idx for idx, word in idx2word.items()}\n",
    "    \n",
    "    return word2idx, idx2word\n",
    "\n",
    "\n",
    "\"\"\"\n",
    "DON'T MODIFY ANYTHING IN THIS CELL THAT IS BELOW THIS LINE\n",
    "\"\"\"\n",
    "tests.test_create_lookup_tables(create_lookup_tables)"
   ]
  },
  {
   "cell_type": "markdown",
   "metadata": {},
   "source": [
    "### Tokenize Punctuation\n",
    "We'll be splitting the script into a word array using spaces as delimiters.  However, punctuations like periods and exclamation marks make it hard for the neural network to distinguish between the word \"bye\" and \"bye!\".\n",
    "\n",
    "Implement the function `token_lookup` to return a dict that will be used to tokenize symbols like \"!\" into \"||Exclamation_Mark||\".  Create a dictionary for the following symbols where the symbol is the key and value is the token:\n",
    "- Period ( . )\n",
    "- Comma ( , )\n",
    "- Quotation Mark ( \" )\n",
    "- Semicolon ( ; )\n",
    "- Exclamation mark ( ! )\n",
    "- Question mark ( ? )\n",
    "- Left Parentheses ( ( )\n",
    "- Right Parentheses ( ) )\n",
    "- Dash ( -- )\n",
    "- Return ( \\n )\n",
    "\n",
    "This dictionary will be used to token the symbols and add the delimiter (space) around it.  This separates the symbols as it's own word, making it easier for the neural network to predict on the next word. Make sure you don't use a token that could be confused as a word. Instead of using the token \"dash\", try using something like \"||dash||\"."
   ]
  },
  {
   "cell_type": "code",
   "execution_count": 10,
   "metadata": {},
   "outputs": [
    {
     "name": "stdout",
     "output_type": "stream",
     "text": [
      "Tests Passed\n"
     ]
    }
   ],
   "source": [
    "def token_lookup():\n",
    "    \"\"\"\n",
    "    Generate a dict to turn punctuation into a token.\n",
    "    :return: Tokenize dictionary where the key is the punctuation and the value is the token\n",
    "    \"\"\"\n",
    "    # TODO: Implement Function\n",
    "    return {\n",
    "        '.': '<period>',\n",
    "        ',': '<comma>',\n",
    "        '\"': '<quotationMark>',\n",
    "        ';': '<semiColon>',\n",
    "        '!': '<exclamationMark>',\n",
    "        '?': '<questionMark>',\n",
    "        '(': '<leftParen>',\n",
    "        ')': '<rightParen>',\n",
    "        '--': '<dash>',\n",
    "        '\\n': '<newLine>',\n",
    "    }\n",
    "\n",
    "\"\"\"\n",
    "DON'T MODIFY ANYTHING IN THIS CELL THAT IS BELOW THIS LINE\n",
    "\"\"\"\n",
    "tests.test_tokenize(token_lookup)"
   ]
  },
  {
   "cell_type": "markdown",
   "metadata": {},
   "source": [
    "## Preprocess all the data and save it\n",
    "Running the code cell below will preprocess all the data and save it to file."
   ]
  },
  {
   "cell_type": "code",
   "execution_count": 11,
   "metadata": {},
   "outputs": [],
   "source": [
    "\"\"\"\n",
    "DON'T MODIFY ANYTHING IN THIS CELL\n",
    "\"\"\"\n",
    "# Preprocess Training, Validation, and Testing Data\n",
    "helper.preprocess_and_save_data(data_dir, token_lookup, create_lookup_tables)"
   ]
  },
  {
   "cell_type": "markdown",
   "metadata": {},
   "source": [
    "# Check Point\n",
    "This is your first checkpoint. If you ever decide to come back to this notebook or have to restart the notebook, you can start from here. The preprocessed data has been saved to disk."
   ]
  },
  {
   "cell_type": "code",
   "execution_count": 1,
   "metadata": {},
   "outputs": [],
   "source": [
    "\"\"\"\n",
    "DON'T MODIFY ANYTHING IN THIS CELL\n",
    "\"\"\"\n",
    "import helper\n",
    "import numpy as np\n",
    "import problem_unittests as tests\n",
    "\n",
    "int_text, vocab_to_int, int_to_vocab, token_dict = helper.load_preprocess()"
   ]
  },
  {
   "cell_type": "markdown",
   "metadata": {},
   "source": [
    "## Build the Neural Network\n",
    "You'll build the components necessary to build a RNN by implementing the following functions below:\n",
    "- get_inputs\n",
    "- get_init_cell\n",
    "- get_embed\n",
    "- build_rnn\n",
    "- build_nn\n",
    "- get_batches\n",
    "\n",
    "### Check the Version of TensorFlow and Access to GPU"
   ]
  },
  {
   "cell_type": "code",
   "execution_count": 2,
   "metadata": {},
   "outputs": [
    {
     "name": "stdout",
     "output_type": "stream",
     "text": [
      "TensorFlow Version: 1.3.0\n",
      "Default GPU Device: /gpu:0\n"
     ]
    }
   ],
   "source": [
    "\"\"\"\n",
    "DON'T MODIFY ANYTHING IN THIS CELL\n",
    "\"\"\"\n",
    "from distutils.version import LooseVersion\n",
    "import warnings\n",
    "import tensorflow as tf\n",
    "\n",
    "# Check TensorFlow Version\n",
    "assert LooseVersion(tf.__version__) >= LooseVersion('1.3'), 'Please use TensorFlow version 1.3 or newer'\n",
    "print('TensorFlow Version: {}'.format(tf.__version__))\n",
    "\n",
    "# Check for a GPU\n",
    "if not tf.test.gpu_device_name():\n",
    "    warnings.warn('No GPU found. Please use a GPU to train your neural network.')\n",
    "else:\n",
    "    print('Default GPU Device: {}'.format(tf.test.gpu_device_name()))"
   ]
  },
  {
   "cell_type": "markdown",
   "metadata": {},
   "source": [
    "### Input\n",
    "Implement the `get_inputs()` function to create TF Placeholders for the Neural Network.  It should create the following placeholders:\n",
    "- Input text placeholder named \"input\" using the [TF Placeholder](https://www.tensorflow.org/api_docs/python/tf/placeholder) `name` parameter.\n",
    "- Targets placeholder\n",
    "- Learning Rate placeholder\n",
    "\n",
    "Return the placeholders in the following tuple `(Input, Targets, LearningRate)`"
   ]
  },
  {
   "cell_type": "code",
   "execution_count": 4,
   "metadata": {},
   "outputs": [
    {
     "name": "stdout",
     "output_type": "stream",
     "text": [
      "Tests Passed\n"
     ]
    }
   ],
   "source": [
    "def get_inputs():\n",
    "    \"\"\"\n",
    "    Create TF Placeholders for input, targets, and learning rate.\n",
    "    :return: Tuple (input, targets, learning rate)\n",
    "    \"\"\"\n",
    "    # TODO: Implement Function\n",
    "    inputs = tf.placeholder(dtype=tf.int32, shape=[None, None], name='input')\n",
    "    targets = tf.placeholder(dtype=tf.int32, shape=[None, None], name='target')\n",
    "    learnrate = tf.placeholder(dtype=tf.float32, name='learningRate')\n",
    "    return (inputs, targets, learnrate)\n",
    "\n",
    "\n",
    "\"\"\"\n",
    "DON'T MODIFY ANYTHING IN THIS CELL THAT IS BELOW THIS LINE\n",
    "\"\"\"\n",
    "tests.test_get_inputs(get_inputs)"
   ]
  },
  {
   "cell_type": "markdown",
   "metadata": {},
   "source": [
    "### Build RNN Cell and Initialize\n",
    "Stack one or more [`BasicLSTMCells`](https://www.tensorflow.org/api_docs/python/tf/contrib/rnn/BasicLSTMCell) in a [`MultiRNNCell`](https://www.tensorflow.org/api_docs/python/tf/contrib/rnn/MultiRNNCell).\n",
    "- The Rnn size should be set using `rnn_size`\n",
    "- Initalize Cell State using the MultiRNNCell's [`zero_state()`](https://www.tensorflow.org/api_docs/python/tf/contrib/rnn/MultiRNNCell#zero_state) function\n",
    "    - Apply the name \"initial_state\" to the initial state using [`tf.identity()`](https://www.tensorflow.org/api_docs/python/tf/identity)\n",
    "\n",
    "Return the cell and initial state in the following tuple `(Cell, InitialState)`"
   ]
  },
  {
   "cell_type": "code",
   "execution_count": 5,
   "metadata": {},
   "outputs": [
    {
     "name": "stdout",
     "output_type": "stream",
     "text": [
      "Tests Passed\n"
     ]
    }
   ],
   "source": [
    "def get_init_cell(batch_size, rnn_size):\n",
    "    \"\"\"\n",
    "    Create an RNN Cell and initialize it.\n",
    "    :param batch_size: Size of batches\n",
    "    :param rnn_size: Size of RNNs\n",
    "    :return: Tuple (cell, initialize state)\n",
    "    \"\"\"\n",
    "    # TODO: Implement Function\n",
    "    \n",
    "    \n",
    "    lstm = tf.contrib.rnn.BasicLSTMCell(rnn_size)\n",
    "    cell = tf.contrib.rnn.MultiRNNCell([lstm])\n",
    "    initial_state = cell.zero_state(batch_size, tf.float32)\n",
    "    initial_state = tf.identity(initial_state, name='initial_state')\n",
    "    return (cell, initial_state)\n",
    "\n",
    "\"\"\"\n",
    "DON'T MODIFY ANYTHING IN THIS CELL THAT IS BELOW THIS LINE\n",
    "\"\"\"\n",
    "tests.test_get_init_cell(get_init_cell)"
   ]
  },
  {
   "cell_type": "markdown",
   "metadata": {},
   "source": [
    "### Word Embedding\n",
    "Apply embedding to `input_data` using TensorFlow.  Return the embedded sequence."
   ]
  },
  {
   "cell_type": "code",
   "execution_count": 6,
   "metadata": {},
   "outputs": [
    {
     "name": "stdout",
     "output_type": "stream",
     "text": [
      "Tests Passed\n"
     ]
    }
   ],
   "source": [
    "def get_embed(input_data, vocab_size, embed_dim):\n",
    "    \"\"\"\n",
    "    Create embedding for <input_data>.\n",
    "    :param input_data: TF placeholder for text input.\n",
    "    :param vocab_size: Number of words in vocabulary.\n",
    "    :param embed_dim: Number of embedding dimensions\n",
    "    :return: Embedded input.\n",
    "    \"\"\"\n",
    "    # TODO: Implement Function\n",
    "    embed_weights = tf.Variable(\n",
    "        tf.random_uniform((vocab_size, embed_dim), -1, 1)\n",
    "                               )\n",
    "    embed = tf.nn.embedding_lookup(embed_weights, input_data)\n",
    "    return embed\n",
    "\n",
    "\n",
    "\"\"\"\n",
    "DON'T MODIFY ANYTHING IN THIS CELL THAT IS BELOW THIS LINE\n",
    "\"\"\"\n",
    "tests.test_get_embed(get_embed)"
   ]
  },
  {
   "cell_type": "markdown",
   "metadata": {},
   "source": [
    "### Build RNN\n",
    "You created a RNN Cell in the `get_init_cell()` function.  Time to use the cell to create a RNN.\n",
    "- Build the RNN using the [`tf.nn.dynamic_rnn()`](https://www.tensorflow.org/api_docs/python/tf/nn/dynamic_rnn)\n",
    " - Apply the name \"final_state\" to the final state using [`tf.identity()`](https://www.tensorflow.org/api_docs/python/tf/identity)\n",
    "\n",
    "Return the outputs and final_state state in the following tuple `(Outputs, FinalState)` "
   ]
  },
  {
   "cell_type": "code",
   "execution_count": 7,
   "metadata": {},
   "outputs": [
    {
     "name": "stdout",
     "output_type": "stream",
     "text": [
      "Tests Passed\n"
     ]
    }
   ],
   "source": [
    "def build_rnn(cell, inputs):\n",
    "    \"\"\"\n",
    "    Create a RNN using a RNN Cell\n",
    "    :param cell: RNN Cell\n",
    "    :param inputs: Input text data\n",
    "    :return: Tuple (Outputs, Final State)\n",
    "    \"\"\"\n",
    "    # TODO: Implement Function\n",
    "    outputs, state = tf.nn.dynamic_rnn(cell, inputs, dtype=tf.float32)\n",
    "    state = tf.identity(state, 'final_state')\n",
    "    \n",
    "    return (outputs, state)\n",
    "\n",
    "\n",
    "\"\"\"\n",
    "DON'T MODIFY ANYTHING IN THIS CELL THAT IS BELOW THIS LINE\n",
    "\"\"\"\n",
    "tests.test_build_rnn(build_rnn)"
   ]
  },
  {
   "cell_type": "markdown",
   "metadata": {},
   "source": [
    "### Build the Neural Network\n",
    "Apply the functions you implemented above to:\n",
    "- Apply embedding to `input_data` using your `get_embed(input_data, vocab_size, embed_dim)` function.\n",
    "- Build RNN using `cell` and your `build_rnn(cell, inputs)` function.\n",
    "- Apply a fully connected layer with a linear activation and `vocab_size` as the number of outputs.\n",
    "\n",
    "Return the logits and final state in the following tuple (Logits, FinalState) "
   ]
  },
  {
   "cell_type": "code",
   "execution_count": 8,
   "metadata": {},
   "outputs": [
    {
     "name": "stdout",
     "output_type": "stream",
     "text": [
      "Tests Passed\n"
     ]
    }
   ],
   "source": [
    "def build_nn(cell, rnn_size, input_data, vocab_size, embed_dim):\n",
    "    \"\"\"\n",
    "    Build part of the neural network\n",
    "    :param cell: RNN cell\n",
    "    :param rnn_size: Size of rnns\n",
    "    :param input_data: Input data\n",
    "    :param vocab_size: Vocabulary size\n",
    "    :param embed_dim: Number of embedding dimensions\n",
    "    :return: Tuple (Logits, FinalState)\n",
    "    \"\"\"\n",
    "    # TODO: Implement Function\n",
    "    embedding_layer = get_embed(input_data, vocab_size, embed_dim)\n",
    "    outputs, final_state = build_rnn(cell, embedding_layer)\n",
    "    logits = tf.layers.dense(outputs, vocab_size, activation=None, use_bias=True)\n",
    "    \n",
    "    return (logits, final_state)\n",
    "\n",
    "\n",
    "\"\"\"\n",
    "DON'T MODIFY ANYTHING IN THIS CELL THAT IS BELOW THIS LINE\n",
    "\"\"\"\n",
    "tests.test_build_nn(build_nn)"
   ]
  },
  {
   "cell_type": "markdown",
   "metadata": {},
   "source": [
    "### Batches\n",
    "Implement `get_batches` to create batches of input and targets using `int_text`.  The batches should be a Numpy array with the shape `(number of batches, 2, batch size, sequence length)`. Each batch contains two elements:\n",
    "- The first element is a single batch of **input** with the shape `[batch size, sequence length]`\n",
    "- The second element is a single batch of **targets** with the shape `[batch size, sequence length]`\n",
    "\n",
    "If you can't fill the last batch with enough data, drop the last batch.\n",
    "\n",
    "For example, `get_batches([1, 2, 3, 4, 5, 6, 7, 8, 9, 10, 11, 12, 13, 14, 15, 16, 17, 18, 19, 20], 3, 2)` would return a Numpy array of the following:\n",
    "```\n",
    "[\n",
    "  # First Batch\n",
    "  [\n",
    "    # Batch of Input\n",
    "    [[ 1  2], [ 7  8], [13 14]]\n",
    "    # Batch of targets\n",
    "    [[ 2  3], [ 8  9], [14 15]]\n",
    "  ]\n",
    "\n",
    "  # Second Batch\n",
    "  [\n",
    "    # Batch of Input\n",
    "    [[ 3  4], [ 9 10], [15 16]]\n",
    "    # Batch of targets\n",
    "    [[ 4  5], [10 11], [16 17]]\n",
    "  ]\n",
    "\n",
    "  # Third Batch\n",
    "  [\n",
    "    # Batch of Input\n",
    "    [[ 5  6], [11 12], [17 18]]\n",
    "    # Batch of targets\n",
    "    [[ 6  7], [12 13], [18  1]]\n",
    "  ]\n",
    "]\n",
    "```\n",
    "\n",
    "Notice that the last target value in the last batch is the first input value of the first batch. In this case, `1`. This is a common technique used when creating sequence batches, although it is rather unintuitive."
   ]
  },
  {
   "cell_type": "code",
   "execution_count": 48,
   "metadata": {},
   "outputs": [
    {
     "name": "stdout",
     "output_type": "stream",
     "text": [
      "Tests Passed\n"
     ]
    }
   ],
   "source": [
    "def get_batches(int_text, batch_size, seq_length):\n",
    "    \"\"\"\n",
    "    Return batches of input and target\n",
    "    :param int_text: Text with the words replaced by their ids\n",
    "    :param batch_size: The size of batch\n",
    "    :param seq_length: The length of sequence\n",
    "    :return: Batches as a Numpy array\n",
    "    \"\"\"\n",
    "    # TODO: Implement Function\n",
    "    \n",
    "    n_batches = len(int_text)//(batch_size*seq_length)\n",
    "    input_data = np.array(int_text[:batch_size*seq_length*n_batches])\n",
    "    target_data = np.array(int_text[1:batch_size*seq_length*n_batches+1])\n",
    "    \n",
    "    target_data[-1] = input_data[0]\n",
    "    input_batches = np.split(input_data.reshape(batch_size, -1), n_batches, 1)\n",
    "    target_batches = np.split(target_data.reshape(batch_size, -1), n_batches, 1)\n",
    "    \n",
    "    return np.array(list(zip(input_batches, target_batches)))\n",
    "    \n",
    "\n",
    "\"\"\"\n",
    "DON'T MODIFY ANYTHING IN THIS CELL THAT IS BELOW THIS LINE\n",
    "\"\"\"\n",
    "tests.test_get_batches(get_batches)"
   ]
  },
  {
   "cell_type": "markdown",
   "metadata": {},
   "source": [
    "## Neural Network Training\n",
    "### Hyperparameters\n",
    "Tune the following parameters:\n",
    "\n",
    "- Set `num_epochs` to the number of epochs.\n",
    "- Set `batch_size` to the batch size.\n",
    "- Set `rnn_size` to the size of the RNNs.\n",
    "- Set `embed_dim` to the size of the embedding.\n",
    "- Set `seq_length` to the length of sequence.\n",
    "- Set `learning_rate` to the learning rate.\n",
    "- Set `show_every_n_batches` to the number of batches the neural network should print progress."
   ]
  },
  {
   "cell_type": "code",
   "execution_count": 40,
   "metadata": {},
   "outputs": [],
   "source": [
    "# Number of Epochs\n",
    "num_epochs = 512\n",
    "# Batch Size\n",
    "batch_size = 64\n",
    "# RNN Size\n",
    "rnn_size = 512\n",
    "# Embedding Dimension Size\n",
    "embed_dim = 256\n",
    "# Sequence Length\n",
    "seq_length = 16\n",
    "# Learning Rate\n",
    "learning_rate = 0.001\n",
    "# Show stats for every n number of batches\n",
    "show_every_n_batches = 100\n",
    "\n",
    "\"\"\"\n",
    "DON'T MODIFY ANYTHING IN THIS CELL THAT IS BELOW THIS LINE\n",
    "\"\"\"\n",
    "save_dir = './save'"
   ]
  },
  {
   "cell_type": "markdown",
   "metadata": {},
   "source": [
    "### Build the Graph\n",
    "Build the graph using the neural network you implemented."
   ]
  },
  {
   "cell_type": "code",
   "execution_count": 41,
   "metadata": {},
   "outputs": [],
   "source": [
    "\"\"\"\n",
    "DON'T MODIFY ANYTHING IN THIS CELL\n",
    "\"\"\"\n",
    "from tensorflow.contrib import seq2seq\n",
    "\n",
    "train_graph = tf.Graph()\n",
    "with train_graph.as_default():\n",
    "    vocab_size = len(int_to_vocab)\n",
    "    input_text, targets, lr = get_inputs()\n",
    "    input_data_shape = tf.shape(input_text)\n",
    "    cell, initial_state = get_init_cell(input_data_shape[0], rnn_size)\n",
    "    logits, final_state = build_nn(cell, rnn_size, input_text, vocab_size, embed_dim)\n",
    "\n",
    "    # Probabilities for generating words\n",
    "    probs = tf.nn.softmax(logits, name='probs')\n",
    "\n",
    "    # Loss function\n",
    "    cost = seq2seq.sequence_loss(\n",
    "        logits,\n",
    "        targets,\n",
    "        tf.ones([input_data_shape[0], input_data_shape[1]]))\n",
    "\n",
    "    # Optimizer\n",
    "    optimizer = tf.train.AdamOptimizer(lr)\n",
    "\n",
    "    # Gradient Clipping\n",
    "    gradients = optimizer.compute_gradients(cost)\n",
    "    capped_gradients = [(tf.clip_by_value(grad, -1., 1.), var) for grad, var in gradients if grad is not None]\n",
    "    train_op = optimizer.apply_gradients(capped_gradients)"
   ]
  },
  {
   "cell_type": "markdown",
   "metadata": {},
   "source": [
    "## Train\n",
    "Train the neural network on the preprocessed data.  If you have a hard time getting a good loss, check the [forums](https://discussions.udacity.com/) to see if anyone is having the same problem."
   ]
  },
  {
   "cell_type": "code",
   "execution_count": 42,
   "metadata": {},
   "outputs": [
    {
     "name": "stdout",
     "output_type": "stream",
     "text": [
      "Epoch   0 Batch    0/67   train_loss = 8.821\n",
      "Epoch   1 Batch   33/67   train_loss = 5.480\n",
      "Epoch   2 Batch   66/67   train_loss = 4.940\n",
      "Epoch   4 Batch   32/67   train_loss = 4.810\n",
      "Epoch   5 Batch   65/67   train_loss = 4.321\n",
      "Epoch   7 Batch   31/67   train_loss = 4.191\n",
      "Epoch   8 Batch   64/67   train_loss = 3.878\n",
      "Epoch  10 Batch   30/67   train_loss = 3.776\n",
      "Epoch  11 Batch   63/67   train_loss = 3.666\n",
      "Epoch  13 Batch   29/67   train_loss = 3.565\n",
      "Epoch  14 Batch   62/67   train_loss = 3.314\n",
      "Epoch  16 Batch   28/67   train_loss = 3.158\n",
      "Epoch  17 Batch   61/67   train_loss = 2.962\n",
      "Epoch  19 Batch   27/67   train_loss = 2.911\n",
      "Epoch  20 Batch   60/67   train_loss = 2.660\n",
      "Epoch  22 Batch   26/67   train_loss = 2.523\n",
      "Epoch  23 Batch   59/67   train_loss = 2.386\n",
      "Epoch  25 Batch   25/67   train_loss = 2.395\n",
      "Epoch  26 Batch   58/67   train_loss = 2.194\n",
      "Epoch  28 Batch   24/67   train_loss = 2.112\n",
      "Epoch  29 Batch   57/67   train_loss = 1.942\n",
      "Epoch  31 Batch   23/67   train_loss = 1.905\n",
      "Epoch  32 Batch   56/67   train_loss = 1.792\n",
      "Epoch  34 Batch   22/67   train_loss = 1.797\n",
      "Epoch  35 Batch   55/67   train_loss = 1.540\n",
      "Epoch  37 Batch   21/67   train_loss = 1.620\n",
      "Epoch  38 Batch   54/67   train_loss = 1.409\n",
      "Epoch  40 Batch   20/67   train_loss = 1.401\n",
      "Epoch  41 Batch   53/67   train_loss = 1.180\n",
      "Epoch  43 Batch   19/67   train_loss = 1.107\n",
      "Epoch  44 Batch   52/67   train_loss = 1.120\n",
      "Epoch  46 Batch   18/67   train_loss = 1.062\n",
      "Epoch  47 Batch   51/67   train_loss = 1.035\n",
      "Epoch  49 Batch   17/67   train_loss = 0.999\n",
      "Epoch  50 Batch   50/67   train_loss = 0.847\n",
      "Epoch  52 Batch   16/67   train_loss = 0.767\n",
      "Epoch  53 Batch   49/67   train_loss = 0.791\n",
      "Epoch  55 Batch   15/67   train_loss = 0.680\n",
      "Epoch  56 Batch   48/67   train_loss = 0.652\n",
      "Epoch  58 Batch   14/67   train_loss = 0.624\n",
      "Epoch  59 Batch   47/67   train_loss = 0.593\n",
      "Epoch  61 Batch   13/67   train_loss = 0.515\n",
      "Epoch  62 Batch   46/67   train_loss = 0.471\n",
      "Epoch  64 Batch   12/67   train_loss = 0.504\n",
      "Epoch  65 Batch   45/67   train_loss = 0.447\n",
      "Epoch  67 Batch   11/67   train_loss = 0.388\n",
      "Epoch  68 Batch   44/67   train_loss = 0.367\n",
      "Epoch  70 Batch   10/67   train_loss = 0.386\n",
      "Epoch  71 Batch   43/67   train_loss = 0.382\n",
      "Epoch  73 Batch    9/67   train_loss = 0.338\n",
      "Epoch  74 Batch   42/67   train_loss = 0.292\n",
      "Epoch  76 Batch    8/67   train_loss = 0.303\n",
      "Epoch  77 Batch   41/67   train_loss = 0.321\n",
      "Epoch  79 Batch    7/67   train_loss = 0.315\n",
      "Epoch  80 Batch   40/67   train_loss = 0.260\n",
      "Epoch  82 Batch    6/67   train_loss = 0.271\n",
      "Epoch  83 Batch   39/67   train_loss = 0.289\n",
      "Epoch  85 Batch    5/67   train_loss = 0.248\n",
      "Epoch  86 Batch   38/67   train_loss = 0.236\n",
      "Epoch  88 Batch    4/67   train_loss = 0.245\n",
      "Epoch  89 Batch   37/67   train_loss = 0.257\n",
      "Epoch  91 Batch    3/67   train_loss = 0.236\n",
      "Epoch  92 Batch   36/67   train_loss = 0.240\n",
      "Epoch  94 Batch    2/67   train_loss = 0.239\n",
      "Epoch  95 Batch   35/67   train_loss = 0.258\n",
      "Epoch  97 Batch    1/67   train_loss = 0.205\n",
      "Epoch  98 Batch   34/67   train_loss = 0.241\n",
      "Epoch 100 Batch    0/67   train_loss = 0.234\n",
      "Epoch 101 Batch   33/67   train_loss = 0.202\n",
      "Epoch 102 Batch   66/67   train_loss = 0.214\n",
      "Epoch 104 Batch   32/67   train_loss = 0.239\n",
      "Epoch 105 Batch   65/67   train_loss = 0.233\n",
      "Epoch 107 Batch   31/67   train_loss = 0.259\n",
      "Epoch 108 Batch   64/67   train_loss = 0.213\n",
      "Epoch 110 Batch   30/67   train_loss = 0.207\n",
      "Epoch 111 Batch   63/67   train_loss = 0.236\n",
      "Epoch 113 Batch   29/67   train_loss = 0.207\n",
      "Epoch 114 Batch   62/67   train_loss = 0.239\n",
      "Epoch 116 Batch   28/67   train_loss = 0.200\n",
      "Epoch 117 Batch   61/67   train_loss = 0.223\n",
      "Epoch 119 Batch   27/67   train_loss = 0.198\n",
      "Epoch 120 Batch   60/67   train_loss = 0.212\n",
      "Epoch 122 Batch   26/67   train_loss = 0.243\n",
      "Epoch 123 Batch   59/67   train_loss = 0.242\n",
      "Epoch 125 Batch   25/67   train_loss = 0.228\n",
      "Epoch 126 Batch   58/67   train_loss = 0.220\n",
      "Epoch 128 Batch   24/67   train_loss = 0.204\n",
      "Epoch 129 Batch   57/67   train_loss = 0.223\n",
      "Epoch 131 Batch   23/67   train_loss = 0.241\n",
      "Epoch 132 Batch   56/67   train_loss = 0.239\n",
      "Epoch 134 Batch   22/67   train_loss = 0.226\n",
      "Epoch 135 Batch   55/67   train_loss = 0.219\n",
      "Epoch 137 Batch   21/67   train_loss = 0.225\n",
      "Epoch 138 Batch   54/67   train_loss = 0.200\n",
      "Epoch 140 Batch   20/67   train_loss = 0.253\n",
      "Epoch 141 Batch   53/67   train_loss = 0.179\n",
      "Epoch 143 Batch   19/67   train_loss = 0.198\n",
      "Epoch 144 Batch   52/67   train_loss = 0.214\n",
      "Epoch 146 Batch   18/67   train_loss = 0.212\n",
      "Epoch 147 Batch   51/67   train_loss = 0.244\n",
      "Epoch 149 Batch   17/67   train_loss = 0.246\n",
      "Epoch 150 Batch   50/67   train_loss = 0.182\n",
      "Epoch 152 Batch   16/67   train_loss = 0.210\n",
      "Epoch 153 Batch   49/67   train_loss = 0.223\n",
      "Epoch 155 Batch   15/67   train_loss = 0.176\n",
      "Epoch 156 Batch   48/67   train_loss = 0.189\n",
      "Epoch 158 Batch   14/67   train_loss = 0.205\n",
      "Epoch 159 Batch   47/67   train_loss = 0.206\n",
      "Epoch 161 Batch   13/67   train_loss = 0.197\n",
      "Epoch 162 Batch   46/67   train_loss = 0.180\n",
      "Epoch 164 Batch   12/67   train_loss = 0.240\n",
      "Epoch 165 Batch   45/67   train_loss = 0.208\n",
      "Epoch 167 Batch   11/67   train_loss = 0.204\n",
      "Epoch 168 Batch   44/67   train_loss = 0.180\n",
      "Epoch 170 Batch   10/67   train_loss = 0.204\n",
      "Epoch 171 Batch   43/67   train_loss = 0.213\n",
      "Epoch 173 Batch    9/67   train_loss = 0.201\n",
      "Epoch 174 Batch   42/67   train_loss = 0.188\n",
      "Epoch 176 Batch    8/67   train_loss = 0.196\n",
      "Epoch 177 Batch   41/67   train_loss = 0.216\n",
      "Epoch 179 Batch    7/67   train_loss = 0.232\n",
      "Epoch 180 Batch   40/67   train_loss = 0.205\n",
      "Epoch 182 Batch    6/67   train_loss = 0.202\n",
      "Epoch 183 Batch   39/67   train_loss = 0.231\n",
      "Epoch 185 Batch    5/67   train_loss = 0.201\n",
      "Epoch 186 Batch   38/67   train_loss = 0.201\n",
      "Epoch 188 Batch    4/67   train_loss = 0.209\n",
      "Epoch 189 Batch   37/67   train_loss = 0.222\n",
      "Epoch 191 Batch    3/67   train_loss = 0.197\n",
      "Epoch 192 Batch   36/67   train_loss = 0.210\n",
      "Epoch 194 Batch    2/67   train_loss = 0.215\n",
      "Epoch 195 Batch   35/67   train_loss = 0.227\n",
      "Epoch 197 Batch    1/67   train_loss = 0.178\n",
      "Epoch 198 Batch   34/67   train_loss = 0.217\n",
      "Epoch 200 Batch    0/67   train_loss = 0.211\n",
      "Epoch 201 Batch   33/67   train_loss = 0.182\n",
      "Epoch 202 Batch   66/67   train_loss = 0.191\n",
      "Epoch 204 Batch   32/67   train_loss = 0.218\n",
      "Epoch 205 Batch   65/67   train_loss = 0.207\n",
      "Epoch 207 Batch   31/67   train_loss = 0.238\n",
      "Epoch 208 Batch   64/67   train_loss = 0.191\n",
      "Epoch 210 Batch   30/67   train_loss = 0.189\n",
      "Epoch 211 Batch   63/67   train_loss = 0.216\n",
      "Epoch 213 Batch   29/67   train_loss = 0.190\n",
      "Epoch 214 Batch   62/67   train_loss = 0.222\n",
      "Epoch 216 Batch   28/67   train_loss = 0.185\n",
      "Epoch 217 Batch   61/67   train_loss = 0.207\n",
      "Epoch 219 Batch   27/67   train_loss = 0.181\n",
      "Epoch 220 Batch   60/67   train_loss = 0.196\n",
      "Epoch 222 Batch   26/67   train_loss = 0.229\n",
      "Epoch 223 Batch   59/67   train_loss = 0.227\n",
      "Epoch 225 Batch   25/67   train_loss = 0.215\n",
      "Epoch 226 Batch   58/67   train_loss = 0.204\n",
      "Epoch 228 Batch   24/67   train_loss = 0.193\n",
      "Epoch 229 Batch   57/67   train_loss = 0.212\n",
      "Epoch 231 Batch   23/67   train_loss = 0.229\n",
      "Epoch 232 Batch   56/67   train_loss = 0.226\n",
      "Epoch 234 Batch   22/67   train_loss = 0.212\n",
      "Epoch 235 Batch   55/67   train_loss = 0.209\n",
      "Epoch 237 Batch   21/67   train_loss = 0.213\n",
      "Epoch 238 Batch   54/67   train_loss = 0.189\n",
      "Epoch 240 Batch   20/67   train_loss = 0.238\n",
      "Epoch 241 Batch   53/67   train_loss = 0.168\n",
      "Epoch 243 Batch   19/67   train_loss = 0.189\n",
      "Epoch 244 Batch   52/67   train_loss = 0.202\n",
      "Epoch 246 Batch   18/67   train_loss = 0.285\n",
      "Epoch 247 Batch   51/67   train_loss = 0.253\n",
      "Epoch 249 Batch   17/67   train_loss = 0.242\n",
      "Epoch 250 Batch   50/67   train_loss = 0.174\n",
      "Epoch 252 Batch   16/67   train_loss = 0.201\n",
      "Epoch 253 Batch   49/67   train_loss = 0.212\n",
      "Epoch 255 Batch   15/67   train_loss = 0.167\n",
      "Epoch 256 Batch   48/67   train_loss = 0.182\n",
      "Epoch 258 Batch   14/67   train_loss = 0.196\n",
      "Epoch 259 Batch   47/67   train_loss = 0.198\n",
      "Epoch 261 Batch   13/67   train_loss = 0.188\n",
      "Epoch 262 Batch   46/67   train_loss = 0.174\n",
      "Epoch 264 Batch   12/67   train_loss = 0.228\n",
      "Epoch 265 Batch   45/67   train_loss = 0.200\n",
      "Epoch 267 Batch   11/67   train_loss = 0.195\n",
      "Epoch 268 Batch   44/67   train_loss = 0.172\n",
      "Epoch 270 Batch   10/67   train_loss = 0.193\n",
      "Epoch 271 Batch   43/67   train_loss = 0.206\n"
     ]
    },
    {
     "name": "stdout",
     "output_type": "stream",
     "text": [
      "Epoch 273 Batch    9/67   train_loss = 0.194\n",
      "Epoch 274 Batch   42/67   train_loss = 0.181\n",
      "Epoch 276 Batch    8/67   train_loss = 0.188\n",
      "Epoch 277 Batch   41/67   train_loss = 0.208\n",
      "Epoch 279 Batch    7/67   train_loss = 0.223\n",
      "Epoch 280 Batch   40/67   train_loss = 0.198\n",
      "Epoch 282 Batch    6/67   train_loss = 0.197\n",
      "Epoch 283 Batch   39/67   train_loss = 0.223\n",
      "Epoch 285 Batch    5/67   train_loss = 0.194\n",
      "Epoch 286 Batch   38/67   train_loss = 0.196\n",
      "Epoch 288 Batch    4/67   train_loss = 0.203\n",
      "Epoch 289 Batch   37/67   train_loss = 0.217\n",
      "Epoch 291 Batch    3/67   train_loss = 0.192\n",
      "Epoch 292 Batch   36/67   train_loss = 0.205\n",
      "Epoch 294 Batch    2/67   train_loss = 0.210\n",
      "Epoch 295 Batch   35/67   train_loss = 0.222\n",
      "Epoch 297 Batch    1/67   train_loss = 0.174\n",
      "Epoch 298 Batch   34/67   train_loss = 0.213\n",
      "Epoch 300 Batch    0/67   train_loss = 0.206\n",
      "Epoch 301 Batch   33/67   train_loss = 0.177\n",
      "Epoch 302 Batch   66/67   train_loss = 0.186\n",
      "Epoch 304 Batch   32/67   train_loss = 0.214\n",
      "Epoch 305 Batch   65/67   train_loss = 0.203\n",
      "Epoch 307 Batch   31/67   train_loss = 0.235\n",
      "Epoch 308 Batch   64/67   train_loss = 0.188\n",
      "Epoch 310 Batch   30/67   train_loss = 0.184\n",
      "Epoch 311 Batch   63/67   train_loss = 0.213\n",
      "Epoch 313 Batch   29/67   train_loss = 0.186\n",
      "Epoch 314 Batch   62/67   train_loss = 0.219\n",
      "Epoch 316 Batch   28/67   train_loss = 0.181\n",
      "Epoch 317 Batch   61/67   train_loss = 0.203\n",
      "Epoch 319 Batch   27/67   train_loss = 0.178\n",
      "Epoch 320 Batch   60/67   train_loss = 0.193\n",
      "Epoch 322 Batch   26/67   train_loss = 0.225\n",
      "Epoch 323 Batch   59/67   train_loss = 0.224\n",
      "Epoch 325 Batch   25/67   train_loss = 0.212\n",
      "Epoch 326 Batch   58/67   train_loss = 0.202\n",
      "Epoch 328 Batch   24/67   train_loss = 0.190\n",
      "Epoch 329 Batch   57/67   train_loss = 0.209\n",
      "Epoch 331 Batch   23/67   train_loss = 0.226\n",
      "Epoch 332 Batch   56/67   train_loss = 0.223\n",
      "Epoch 334 Batch   22/67   train_loss = 0.209\n",
      "Epoch 335 Batch   55/67   train_loss = 0.207\n",
      "Epoch 337 Batch   21/67   train_loss = 0.210\n",
      "Epoch 338 Batch   54/67   train_loss = 0.187\n",
      "Epoch 340 Batch   20/67   train_loss = 0.235\n",
      "Epoch 341 Batch   53/67   train_loss = 0.165\n",
      "Epoch 343 Batch   19/67   train_loss = 0.187\n",
      "Epoch 344 Batch   52/67   train_loss = 0.199\n",
      "Epoch 346 Batch   18/67   train_loss = 0.200\n",
      "Epoch 347 Batch   51/67   train_loss = 0.228\n",
      "Epoch 349 Batch   17/67   train_loss = 0.234\n",
      "Epoch 350 Batch   50/67   train_loss = 0.170\n",
      "Epoch 352 Batch   16/67   train_loss = 0.198\n",
      "Epoch 353 Batch   49/67   train_loss = 0.209\n",
      "Epoch 355 Batch   15/67   train_loss = 0.164\n",
      "Epoch 356 Batch   48/67   train_loss = 0.180\n",
      "Epoch 358 Batch   14/67   train_loss = 0.194\n",
      "Epoch 359 Batch   47/67   train_loss = 0.195\n",
      "Epoch 361 Batch   13/67   train_loss = 0.185\n",
      "Epoch 362 Batch   46/67   train_loss = 0.172\n",
      "Epoch 364 Batch   12/67   train_loss = 0.224\n",
      "Epoch 365 Batch   45/67   train_loss = 0.197\n",
      "Epoch 367 Batch   11/67   train_loss = 0.193\n",
      "Epoch 368 Batch   44/67   train_loss = 0.170\n",
      "Epoch 370 Batch   10/67   train_loss = 0.190\n",
      "Epoch 371 Batch   43/67   train_loss = 0.204\n",
      "Epoch 373 Batch    9/67   train_loss = 0.191\n",
      "Epoch 374 Batch   42/67   train_loss = 0.179\n",
      "Epoch 376 Batch    8/67   train_loss = 0.186\n",
      "Epoch 377 Batch   41/67   train_loss = 0.205\n",
      "Epoch 379 Batch    7/67   train_loss = 0.229\n",
      "Epoch 380 Batch   40/67   train_loss = 0.269\n",
      "Epoch 382 Batch    6/67   train_loss = 0.205\n",
      "Epoch 383 Batch   39/67   train_loss = 0.222\n",
      "Epoch 385 Batch    5/67   train_loss = 0.192\n",
      "Epoch 386 Batch   38/67   train_loss = 0.193\n",
      "Epoch 388 Batch    4/67   train_loss = 0.201\n",
      "Epoch 389 Batch   37/67   train_loss = 0.215\n",
      "Epoch 391 Batch    3/67   train_loss = 0.190\n",
      "Epoch 392 Batch   36/67   train_loss = 0.201\n",
      "Epoch 394 Batch    2/67   train_loss = 0.207\n",
      "Epoch 395 Batch   35/67   train_loss = 0.219\n",
      "Epoch 397 Batch    1/67   train_loss = 0.171\n",
      "Epoch 398 Batch   34/67   train_loss = 0.210\n",
      "Epoch 400 Batch    0/67   train_loss = 0.203\n",
      "Epoch 401 Batch   33/67   train_loss = 0.175\n",
      "Epoch 402 Batch   66/67   train_loss = 0.182\n",
      "Epoch 404 Batch   32/67   train_loss = 0.212\n",
      "Epoch 405 Batch   65/67   train_loss = 0.199\n",
      "Epoch 407 Batch   31/67   train_loss = 0.233\n",
      "Epoch 408 Batch   64/67   train_loss = 0.186\n",
      "Epoch 410 Batch   30/67   train_loss = 0.181\n",
      "Epoch 411 Batch   63/67   train_loss = 0.210\n",
      "Epoch 413 Batch   29/67   train_loss = 0.183\n",
      "Epoch 414 Batch   62/67   train_loss = 0.217\n",
      "Epoch 416 Batch   28/67   train_loss = 0.179\n",
      "Epoch 417 Batch   61/67   train_loss = 0.201\n",
      "Epoch 419 Batch   27/67   train_loss = 0.176\n",
      "Epoch 420 Batch   60/67   train_loss = 0.192\n",
      "Epoch 422 Batch   26/67   train_loss = 0.223\n",
      "Epoch 423 Batch   59/67   train_loss = 0.222\n",
      "Epoch 425 Batch   25/67   train_loss = 0.210\n",
      "Epoch 426 Batch   58/67   train_loss = 0.200\n",
      "Epoch 428 Batch   24/67   train_loss = 0.189\n",
      "Epoch 429 Batch   57/67   train_loss = 0.207\n",
      "Epoch 431 Batch   23/67   train_loss = 0.224\n",
      "Epoch 432 Batch   56/67   train_loss = 0.221\n",
      "Epoch 434 Batch   22/67   train_loss = 0.207\n",
      "Epoch 435 Batch   55/67   train_loss = 0.206\n",
      "Epoch 437 Batch   21/67   train_loss = 0.209\n",
      "Epoch 438 Batch   54/67   train_loss = 0.185\n",
      "Epoch 440 Batch   20/67   train_loss = 0.233\n",
      "Epoch 441 Batch   53/67   train_loss = 0.164\n",
      "Epoch 443 Batch   19/67   train_loss = 0.185\n",
      "Epoch 444 Batch   52/67   train_loss = 0.198\n",
      "Epoch 446 Batch   18/67   train_loss = 0.199\n",
      "Epoch 447 Batch   51/67   train_loss = 0.226\n",
      "Epoch 449 Batch   17/67   train_loss = 0.233\n",
      "Epoch 450 Batch   50/67   train_loss = 0.169\n",
      "Epoch 452 Batch   16/67   train_loss = 0.197\n",
      "Epoch 453 Batch   49/67   train_loss = 0.208\n",
      "Epoch 455 Batch   15/67   train_loss = 0.163\n",
      "Epoch 456 Batch   48/67   train_loss = 0.179\n",
      "Epoch 458 Batch   14/67   train_loss = 0.192\n",
      "Epoch 459 Batch   47/67   train_loss = 0.194\n",
      "Epoch 461 Batch   13/67   train_loss = 0.184\n",
      "Epoch 462 Batch   46/67   train_loss = 0.171\n",
      "Epoch 464 Batch   12/67   train_loss = 0.223\n",
      "Epoch 465 Batch   45/67   train_loss = 0.196\n",
      "Epoch 467 Batch   11/67   train_loss = 0.191\n",
      "Epoch 468 Batch   44/67   train_loss = 0.169\n",
      "Epoch 470 Batch   10/67   train_loss = 0.189\n",
      "Epoch 471 Batch   43/67   train_loss = 0.203\n",
      "Epoch 473 Batch    9/67   train_loss = 0.190\n",
      "Epoch 474 Batch   42/67   train_loss = 0.178\n",
      "Epoch 476 Batch    8/67   train_loss = 0.185\n",
      "Epoch 477 Batch   41/67   train_loss = 0.203\n",
      "Epoch 479 Batch    7/67   train_loss = 0.220\n",
      "Epoch 480 Batch   40/67   train_loss = 0.193\n",
      "Epoch 482 Batch    6/67   train_loss = 0.193\n",
      "Epoch 483 Batch   39/67   train_loss = 0.219\n",
      "Epoch 485 Batch    5/67   train_loss = 0.190\n",
      "Epoch 486 Batch   38/67   train_loss = 0.192\n",
      "Epoch 488 Batch    4/67   train_loss = 0.199\n",
      "Epoch 489 Batch   37/67   train_loss = 0.213\n",
      "Epoch 491 Batch    3/67   train_loss = 0.189\n",
      "Epoch 492 Batch   36/67   train_loss = 0.296\n",
      "Epoch 494 Batch    2/67   train_loss = 0.236\n",
      "Epoch 495 Batch   35/67   train_loss = 0.223\n",
      "Epoch 497 Batch    1/67   train_loss = 0.171\n",
      "Epoch 498 Batch   34/67   train_loss = 0.211\n",
      "Epoch 500 Batch    0/67   train_loss = 0.202\n",
      "Epoch 501 Batch   33/67   train_loss = 0.174\n",
      "Epoch 502 Batch   66/67   train_loss = 0.181\n",
      "Epoch 504 Batch   32/67   train_loss = 0.211\n",
      "Epoch 505 Batch   65/67   train_loss = 0.198\n",
      "Epoch 507 Batch   31/67   train_loss = 0.232\n",
      "Epoch 508 Batch   64/67   train_loss = 0.185\n",
      "Epoch 510 Batch   30/67   train_loss = 0.180\n",
      "Epoch 511 Batch   63/67   train_loss = 0.209\n",
      "Model Trained and Saved\n"
     ]
    }
   ],
   "source": [
    "\"\"\"\n",
    "DON'T MODIFY ANYTHING IN THIS CELL\n",
    "\"\"\"\n",
    "batches = get_batches(int_text, batch_size, seq_length)\n",
    "\n",
    "with tf.Session(graph=train_graph) as sess:\n",
    "    sess.run(tf.global_variables_initializer())\n",
    "\n",
    "    for epoch_i in range(num_epochs):\n",
    "        state = sess.run(initial_state, {input_text: batches[0][0]})\n",
    "\n",
    "        for batch_i, (x, y) in enumerate(batches):\n",
    "            feed = {\n",
    "                input_text: x,\n",
    "                targets: y,\n",
    "                initial_state: state,\n",
    "                lr: learning_rate}\n",
    "            train_loss, state, _ = sess.run([cost, final_state, train_op], feed)\n",
    "\n",
    "            # Show every <show_every_n_batches> batches\n",
    "            if (epoch_i * len(batches) + batch_i) % show_every_n_batches == 0:\n",
    "                print('Epoch {:>3} Batch {:>4}/{}   train_loss = {:.3f}'.format(\n",
    "                    epoch_i,\n",
    "                    batch_i,\n",
    "                    len(batches),\n",
    "                    train_loss))\n",
    "\n",
    "    # Save Model\n",
    "    saver = tf.train.Saver()\n",
    "    saver.save(sess, save_dir)\n",
    "    print('Model Trained and Saved')"
   ]
  },
  {
   "cell_type": "markdown",
   "metadata": {},
   "source": [
    "## Save Parameters\n",
    "Save `seq_length` and `save_dir` for generating a new TV script."
   ]
  },
  {
   "cell_type": "code",
   "execution_count": 43,
   "metadata": {},
   "outputs": [],
   "source": [
    "\"\"\"\n",
    "DON'T MODIFY ANYTHING IN THIS CELL\n",
    "\"\"\"\n",
    "# Save parameters for checkpoint\n",
    "helper.save_params((seq_length, save_dir))"
   ]
  },
  {
   "cell_type": "markdown",
   "metadata": {},
   "source": [
    "# Checkpoint"
   ]
  },
  {
   "cell_type": "code",
   "execution_count": 44,
   "metadata": {},
   "outputs": [],
   "source": [
    "\"\"\"\n",
    "DON'T MODIFY ANYTHING IN THIS CELL\n",
    "\"\"\"\n",
    "import tensorflow as tf\n",
    "import numpy as np\n",
    "import helper\n",
    "import problem_unittests as tests\n",
    "\n",
    "_, vocab_to_int, int_to_vocab, token_dict = helper.load_preprocess()\n",
    "seq_length, load_dir = helper.load_params()"
   ]
  },
  {
   "cell_type": "markdown",
   "metadata": {},
   "source": [
    "## Implement Generate Functions\n",
    "### Get Tensors\n",
    "Get tensors from `loaded_graph` using the function [`get_tensor_by_name()`](https://www.tensorflow.org/api_docs/python/tf/Graph#get_tensor_by_name).  Get the tensors using the following names:\n",
    "- \"input:0\"\n",
    "- \"initial_state:0\"\n",
    "- \"final_state:0\"\n",
    "- \"probs:0\"\n",
    "\n",
    "Return the tensors in the following tuple `(InputTensor, InitialStateTensor, FinalStateTensor, ProbsTensor)` "
   ]
  },
  {
   "cell_type": "code",
   "execution_count": 45,
   "metadata": {},
   "outputs": [
    {
     "name": "stdout",
     "output_type": "stream",
     "text": [
      "Tests Passed\n"
     ]
    }
   ],
   "source": [
    "def get_tensors(loaded_graph):\n",
    "    \"\"\"\n",
    "    Get input, initial state, final state, and probabilities tensor from <loaded_graph>\n",
    "    :param loaded_graph: TensorFlow graph loaded from file\n",
    "    :return: Tuple (InputTensor, InitialStateTensor, FinalStateTensor, ProbsTensor)\n",
    "    \"\"\"\n",
    "    # TODO: Implement Function\n",
    "    inputs = loaded_graph.get_tensor_by_name('input:0')\n",
    "    initial_state = loaded_graph.get_tensor_by_name('initial_state:0')\n",
    "    final_state = loaded_graph.get_tensor_by_name('final_state:0')\n",
    "    probs = loaded_graph.get_tensor_by_name('probs:0')\n",
    "    return inputs, initial_state, final_state, probs\n",
    "\n",
    "\n",
    "\"\"\"\n",
    "DON'T MODIFY ANYTHING IN THIS CELL THAT IS BELOW THIS LINE\n",
    "\"\"\"\n",
    "tests.test_get_tensors(get_tensors)"
   ]
  },
  {
   "cell_type": "markdown",
   "metadata": {},
   "source": [
    "### Choose Word\n",
    "Implement the `pick_word()` function to select the next word using `probabilities`."
   ]
  },
  {
   "cell_type": "code",
   "execution_count": 46,
   "metadata": {},
   "outputs": [
    {
     "name": "stdout",
     "output_type": "stream",
     "text": [
      "Tests Passed\n"
     ]
    }
   ],
   "source": [
    "def pick_word(probabilities, int_to_vocab):\n",
    "    \"\"\"\n",
    "    Pick the next word in the generated text\n",
    "    :param probabilities: Probabilites of the next word\n",
    "    :param int_to_vocab: Dictionary of word ids as the keys and words as the values\n",
    "    :return: String of the predicted word\n",
    "    \"\"\"\n",
    "    # TODO: Implement Function\n",
    "    idx = np.argmax(probabilities)\n",
    "    return int_to_vocab[idx]\n",
    "\n",
    "\n",
    "\"\"\"\n",
    "DON'T MODIFY ANYTHING IN THIS CELL THAT IS BELOW THIS LINE\n",
    "\"\"\"\n",
    "tests.test_pick_word(pick_word)"
   ]
  },
  {
   "cell_type": "markdown",
   "metadata": {},
   "source": [
    "## Generate TV Script\n",
    "This will generate the TV script for you.  Set `gen_length` to the length of TV script you want to generate."
   ]
  },
  {
   "cell_type": "code",
   "execution_count": 47,
   "metadata": {},
   "outputs": [
    {
     "name": "stdout",
     "output_type": "stream",
     "text": [
      "INFO:tensorflow:Restoring parameters from ./save\n",
      "moe_szyslak:(explaining)\" go near moe.\" i'd say that's a pretty strong endorsement.\n",
      "carl_carlson: no, i don't want to wait.\n",
      "homer_simpson: you can't sell you no beer till two doing here?\n",
      "carl_carlson: yeah, but what would turn bart?\n",
      "lenny_leonard: you know, i lost my little girl.\n",
      "homer_simpson:(to himself, disgusted) wrong, moe. another thing i wish i love!\n",
      "c. _montgomery_burns: i'm here i come out?\n",
      "homer_simpson:(big) huh? how you do? my beer?!\n",
      "homer_simpson: i can't believe how young we looked... in the ocean and i do.\n",
      "moe_szyslak: what a saga.\n",
      "homer_simpson: hey, you guys got any idea, or any other night.\n",
      "barney_gumble:(raising glasses) to marge!\"(to moe)-- i know, i can get ready!\n",
      "moe_szyslak: you could never be thankful to get out there, homer?\n",
      "homer_simpson:(smoothly) i'll have..\n",
      "artie_ziff:(sincere) the change one of\n"
     ]
    }
   ],
   "source": [
    "gen_length = 200\n",
    "# homer_simpson, moe_szyslak, or Barney_Gumble\n",
    "prime_word = 'moe_szyslak'\n",
    "\n",
    "\"\"\"\n",
    "DON'T MODIFY ANYTHING IN THIS CELL THAT IS BELOW THIS LINE\n",
    "\"\"\"\n",
    "loaded_graph = tf.Graph()\n",
    "with tf.Session(graph=loaded_graph) as sess:\n",
    "    # Load saved model\n",
    "    loader = tf.train.import_meta_graph(load_dir + '.meta')\n",
    "    loader.restore(sess, load_dir)\n",
    "\n",
    "    # Get Tensors from loaded model\n",
    "    input_text, initial_state, final_state, probs = get_tensors(loaded_graph)\n",
    "\n",
    "    # Sentences generation setup\n",
    "    gen_sentences = [prime_word + ':']\n",
    "    prev_state = sess.run(initial_state, {input_text: np.array([[1]])})\n",
    "\n",
    "    # Generate sentences\n",
    "    for n in range(gen_length):\n",
    "        # Dynamic Input\n",
    "        dyn_input = [[vocab_to_int[word] for word in gen_sentences[-seq_length:]]]\n",
    "        dyn_seq_length = len(dyn_input[0])\n",
    "\n",
    "        # Get Prediction\n",
    "        probabilities, prev_state = sess.run(\n",
    "            [probs, final_state],\n",
    "            {input_text: dyn_input, initial_state: prev_state})\n",
    "        \n",
    "        pred_word = pick_word(probabilities[0][dyn_seq_length-1], int_to_vocab)\n",
    "\n",
    "        gen_sentences.append(pred_word)\n",
    "    \n",
    "    # Remove tokens\n",
    "    tv_script = ' '.join(gen_sentences)\n",
    "    for key, token in token_dict.items():\n",
    "        ending = ' ' if key in ['\\n', '(', '\"'] else ''\n",
    "        tv_script = tv_script.replace(' ' + token.lower(), key)\n",
    "    tv_script = tv_script.replace('\\n ', '\\n')\n",
    "    tv_script = tv_script.replace('( ', '(')\n",
    "        \n",
    "    print(tv_script)"
   ]
  },
  {
   "cell_type": "markdown",
   "metadata": {},
   "source": [
    "# The TV Script is Nonsensical\n",
    "It's ok if the TV script doesn't make any sense.  We trained on less than a megabyte of text.  In order to get good results, you'll have to use a smaller vocabulary or get more data.  Luckily there's more data!  As we mentioned in the beggining of this project, this is a subset of [another dataset](https://www.kaggle.com/wcukierski/the-simpsons-by-the-data).  We didn't have you train on all the data, because that would take too long.  However, you are free to train your neural network on all the data.  After you complete the project, of course.\n",
    "# Submitting This Project\n",
    "When submitting this project, make sure to run all the cells before saving the notebook. Save the notebook file as \"dlnd_tv_script_generation.ipynb\" and save it as a HTML file under \"File\" -> \"Download as\". Include the \"helper.py\" and \"problem_unittests.py\" files in your submission."
   ]
  }
 ],
 "metadata": {
  "kernelspec": {
   "display_name": "Python 3",
   "language": "python",
   "name": "python3"
  },
  "language_info": {
   "codemirror_mode": {
    "name": "ipython",
    "version": 3
   },
   "file_extension": ".py",
   "mimetype": "text/x-python",
   "name": "python",
   "nbconvert_exporter": "python",
   "pygments_lexer": "ipython3",
   "version": "3.6.3"
  },
  "widgets": {
   "state": {},
   "version": "1.1.2"
  }
 },
 "nbformat": 4,
 "nbformat_minor": 1
}
